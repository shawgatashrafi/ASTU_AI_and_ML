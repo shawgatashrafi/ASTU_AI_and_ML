{
 "cells": [
  {
   "cell_type": "code",
   "execution_count": 1,
   "metadata": {
    "colab": {},
    "colab_type": "code",
    "id": "eMcT1zJuF3Ov"
   },
   "outputs": [],
   "source": [
    "import numpy as np"
   ]
  },
  {
   "cell_type": "code",
   "execution_count": 2,
   "metadata": {
    "colab": {},
    "colab_type": "code",
    "id": "8geUMpvkGWNQ"
   },
   "outputs": [],
   "source": [
    "trn_N=np.load('Train_MFCC_N_2000.npy')\n",
    "trn_S=np.load('Train_MFCC_S_2000.npy')"
   ]
  },
  {
   "cell_type": "code",
   "execution_count": 3,
   "metadata": {
    "colab": {},
    "colab_type": "code",
    "id": "UqB9m4evGsQ-"
   },
   "outputs": [],
   "source": [
    "trn_D=np.concatenate((trn_N,trn_S),axis=0)"
   ]
  },
  {
   "cell_type": "code",
   "execution_count": 4,
   "metadata": {
    "colab": {},
    "colab_type": "code",
    "id": "Oa750BKrHPBF"
   },
   "outputs": [],
   "source": [
    "meanVec=np.mean(trn_D,axis=0)\n",
    "stdVec=np.std(trn_D,axis=0)"
   ]
  },
  {
   "cell_type": "code",
   "execution_count": 5,
   "metadata": {
    "colab": {},
    "colab_type": "code",
    "id": "Z7BKDFjPI0SN"
   },
   "outputs": [],
   "source": [
    "norm_trn_D=np.zeros(trn_D.shape)"
   ]
  },
  {
   "cell_type": "code",
   "execution_count": 6,
   "metadata": {
    "colab": {},
    "colab_type": "code",
    "id": "rqlOrdwMKOV0"
   },
   "outputs": [],
   "source": [
    "for i in range(len(norm_trn_D)):\n",
    "  norm_trn_D[i]=(trn_D[i]-meanVec)/stdVec"
   ]
  },
  {
   "cell_type": "code",
   "execution_count": 7,
   "metadata": {
    "colab": {},
    "colab_type": "code",
    "id": "8WZclTAvM4fY"
   },
   "outputs": [
    {
     "name": "stderr",
     "output_type": "stream",
     "text": [
      "Using TensorFlow backend.\n"
     ]
    }
   ],
   "source": [
    "from keras.layers import Input, Dense\n",
    "from keras.optimizers import Adam\n",
    "from keras.models import Model"
   ]
  },
  {
   "cell_type": "code",
   "execution_count": 8,
   "metadata": {
    "colab": {},
    "colab_type": "code",
    "id": "1i23tMyBUZ5k"
   },
   "outputs": [],
   "source": [
    "model_input = Input(shape=(trn_D.shape[1],), name='model_input')\n",
    "model_output = Dense(1, activation='sigmoid',name='model_output')(model_input)\n",
    "model = Model(model_input, model_output)\n",
    "# Compile model\n",
    "model.compile(loss='binary_crossentropy', optimizer='adam', metrics=['accuracy'])"
   ]
  },
  {
   "cell_type": "code",
   "execution_count": 9,
   "metadata": {
    "colab": {
     "base_uri": "https://localhost:8080/",
     "height": 221
    },
    "colab_type": "code",
    "executionInfo": {
     "elapsed": 1187,
     "status": "ok",
     "timestamp": 1598883181927,
     "user": {
      "displayName": "Bikramaditya Chakrabarty",
      "photoUrl": "https://lh3.googleusercontent.com/a-/AOh14Gj_LA23e3P-ff6dZ76-h1jm6oKAEjpuSLvA8ZluuQ=s64",
      "userId": "10365549198075235434"
     },
     "user_tz": -330
    },
    "id": "ZX2gxqL4YqnB",
    "outputId": "c11c7d88-f06d-413d-9a1c-ac12286c9a79"
   },
   "outputs": [
    {
     "name": "stdout",
     "output_type": "stream",
     "text": [
      "Model: \"model_1\"\n",
      "_________________________________________________________________\n",
      "Layer (type)                 Output Shape              Param #   \n",
      "=================================================================\n",
      "model_input (InputLayer)     (None, 60)                0         \n",
      "_________________________________________________________________\n",
      "model_output (Dense)         (None, 1)                 61        \n",
      "=================================================================\n",
      "Total params: 61\n",
      "Trainable params: 61\n",
      "Non-trainable params: 0\n",
      "_________________________________________________________________\n"
     ]
    }
   ],
   "source": [
    "model.summary()"
   ]
  },
  {
   "cell_type": "code",
   "execution_count": 10,
   "metadata": {
    "colab": {
     "base_uri": "https://localhost:8080/",
     "height": 374
    },
    "colab_type": "code",
    "executionInfo": {
     "elapsed": 2679,
     "status": "ok",
     "timestamp": 1598883193898,
     "user": {
      "displayName": "Bikramaditya Chakrabarty",
      "photoUrl": "https://lh3.googleusercontent.com/a-/AOh14Gj_LA23e3P-ff6dZ76-h1jm6oKAEjpuSLvA8ZluuQ=s64",
      "userId": "10365549198075235434"
     },
     "user_tz": -330
    },
    "id": "f_0v0Z9-ZDcu",
    "outputId": "e0f2b5e3-72fc-4a66-8688-edda070d550f"
   },
   "outputs": [
    {
     "name": "stdout",
     "output_type": "stream",
     "text": [
      "Epoch 1/10\n",
      "4000/4000 [==============================] - 1s 257us/step - loss: 0.9642 - accuracy: 0.3920\n",
      "Epoch 2/10\n",
      "4000/4000 [==============================] - 0s 76us/step - loss: 0.6500 - accuracy: 0.6277\n",
      "Epoch 3/10\n",
      "4000/4000 [==============================] - 0s 86us/step - loss: 0.4770 - accuracy: 0.7843\n",
      "Epoch 4/10\n",
      "4000/4000 [==============================] - 0s 76us/step - loss: 0.3759 - accuracy: 0.8652\n",
      "Epoch 5/10\n",
      "4000/4000 [==============================] - 0s 77us/step - loss: 0.3115 - accuracy: 0.9070\n",
      "Epoch 6/10\n",
      "4000/4000 [==============================] - 0s 76us/step - loss: 0.2678 - accuracy: 0.9287\n",
      "Epoch 7/10\n",
      "4000/4000 [==============================] - 0s 77us/step - loss: 0.2368 - accuracy: 0.9392\n",
      "Epoch 8/10\n",
      "4000/4000 [==============================] - 0s 77us/step - loss: 0.2135 - accuracy: 0.9427\n",
      "Epoch 9/10\n",
      "4000/4000 [==============================] - 0s 76us/step - loss: 0.1955 - accuracy: 0.9482\n",
      "Epoch 10/10\n",
      "4000/4000 [==============================] - 0s 75us/step - loss: 0.1810 - accuracy: 0.9520\n"
     ]
    },
    {
     "data": {
      "text/plain": [
       "<keras.callbacks.callbacks.History at 0x7fa4117d6dd0>"
      ]
     },
     "execution_count": 10,
     "metadata": {},
     "output_type": "execute_result"
    }
   ],
   "source": [
    "model.fit(\n",
    " x = norm_trn_D\n",
    " , y = np.concatenate((np.zeros(shape=(trn_N.shape[0],),dtype=np.int8),np.ones(shape=(trn_S.shape[0],),dtype=np.int8)),axis=0)\n",
    " , batch_size = 32\n",
    " , shuffle = True\n",
    " , epochs = 10\n",
    ")"
   ]
  },
  {
   "cell_type": "code",
   "execution_count": 11,
   "metadata": {
    "colab": {},
    "colab_type": "code",
    "id": "q5hfIoYPcvmx"
   },
   "outputs": [],
   "source": [
    "tst_N=np.load('Test_MFCC_N_500.npy')\n",
    "tst_S=np.load('Test_MFCC_S_500.npy')"
   ]
  },
  {
   "cell_type": "code",
   "execution_count": 12,
   "metadata": {
    "colab": {},
    "colab_type": "code",
    "id": "UC2i5vJcgFv1"
   },
   "outputs": [],
   "source": [
    "tst_D=np.concatenate((tst_N,tst_S),axis=0)"
   ]
  },
  {
   "cell_type": "code",
   "execution_count": 13,
   "metadata": {
    "colab": {},
    "colab_type": "code",
    "id": "7zFXwyLDgVvt"
   },
   "outputs": [],
   "source": [
    "norm_tst_D=np.zeros(tst_D.shape)"
   ]
  },
  {
   "cell_type": "code",
   "execution_count": 14,
   "metadata": {
    "colab": {},
    "colab_type": "code",
    "id": "f17sRGEcgmrn"
   },
   "outputs": [],
   "source": [
    "for i in range(len(norm_tst_D)):\n",
    "  norm_tst_D[i]=(tst_D[i]-meanVec)/stdVec"
   ]
  },
  {
   "cell_type": "code",
   "execution_count": 15,
   "metadata": {
    "colab": {},
    "colab_type": "code",
    "id": "FaXxwyuSj9_-"
   },
   "outputs": [],
   "source": [
    "preds=model.predict(norm_tst_D)"
   ]
  },
  {
   "cell_type": "code",
   "execution_count": 16,
   "metadata": {
    "colab": {},
    "colab_type": "code",
    "id": "B3HJMORamnvt"
   },
   "outputs": [],
   "source": [
    "TP=0\n",
    "FP=0\n",
    "TN=0\n",
    "FN=0"
   ]
  },
  {
   "cell_type": "code",
   "execution_count": 17,
   "metadata": {
    "colab": {},
    "colab_type": "code",
    "id": "evcVawFnmK_I"
   },
   "outputs": [],
   "source": [
    "for i in range(len(preds)):\n",
    "  if(i<len(tst_N)):\n",
    "    if(preds[i][0]<0.5):\n",
    "      TN=TN+1\n",
    "    else:\n",
    "      FP=FP+1\n",
    "  else:\n",
    "    if(preds[i][0]>=0.5):\n",
    "      TP=TP+1\n",
    "    else:\n",
    "      FN=FN+1\n"
   ]
  },
  {
   "cell_type": "code",
   "execution_count": 18,
   "metadata": {
    "colab": {},
    "colab_type": "code",
    "id": "tV92R48fhMvY"
   },
   "outputs": [],
   "source": [
    "import matplotlib.pyplot as plt"
   ]
  },
  {
   "cell_type": "code",
   "execution_count": 19,
   "metadata": {
    "colab": {
     "base_uri": "https://localhost:8080/",
     "height": 265
    },
    "colab_type": "code",
    "executionInfo": {
     "elapsed": 1280,
     "status": "ok",
     "timestamp": 1598883241644,
     "user": {
      "displayName": "Bikramaditya Chakrabarty",
      "photoUrl": "https://lh3.googleusercontent.com/a-/AOh14Gj_LA23e3P-ff6dZ76-h1jm6oKAEjpuSLvA8ZluuQ=s64",
      "userId": "10365549198075235434"
     },
     "user_tz": -330
    },
    "id": "jv3njkpEjbAC",
    "outputId": "90ebd286-f8f2-4558-d3ce-fa3d74eeb238"
   },
   "outputs": [
    {
     "data": {
      "text/plain": [
       "(0.0, 1.0, 0.0, 1.0)"
      ]
     },
     "execution_count": 19,
     "metadata": {},
     "output_type": "execute_result"
    },
    {
     "data": {
      "image/png": "[encoded data removed]",
      "text/plain": [
       "<Figure size 432x288 with 1 Axes>"
      ]
     },
     "metadata": {
      "needs_background": "light"
     },
     "output_type": "display_data"
    }
   ],
   "source": [
    "plt.table(cellText=[[TP,FN],[FP,TN]],cellLoc='center',colWidths=[0.5,0.5],rowLabels=['Shouted(Actual label)','Normal(Actual label)'],colLabels=['Shouted (Prediction)','Normal(Prediction)'],loc=0)\n",
    "plt.axis('off')\n"
   ]
  },
  {
   "cell_type": "code",
   "execution_count": 20,
   "metadata": {
    "colab": {
     "base_uri": "https://localhost:8080/",
     "height": 85
    },
    "colab_type": "code",
    "executionInfo": {
     "elapsed": 1201,
     "status": "ok",
     "timestamp": 1598883251853,
     "user": {
      "displayName": "Bikramaditya Chakrabarty",
      "photoUrl": "https://lh3.googleusercontent.com/a-/AOh14Gj_LA23e3P-ff6dZ76-h1jm6oKAEjpuSLvA8ZluuQ=s64",
      "userId": "10365549198075235434"
     },
     "user_tz": -330
    },
    "id": "Gks1ttPfub-O",
    "outputId": "6da4f6e4-551c-4c9c-c19b-48ce11073d24"
   },
   "outputs": [
    {
     "name": "stdout",
     "output_type": "stream",
     "text": [
      "TPR= 1.0\n",
      "TNR= 0.958\n",
      "FPR= 0.04200000000000004\n",
      "ACC= 0.979\n"
     ]
    }
   ],
   "source": [
    "print('TPR=',TP/(TP+FN))\n",
    "print('TNR=',TN/(FP+TN))\n",
    "print('FPR=',1-(TN/(FP+TN)))\n",
    "print('ACC=',(TP+TN)/(TP+FN+FP+TN))"
   ]
  },
  {
   "cell_type": "code",
   "execution_count": 21,
   "metadata": {
    "colab": {
     "base_uri": "https://localhost:8080/",
     "height": 102
    },
    "colab_type": "code",
    "executionInfo": {
     "elapsed": 1296,
     "status": "ok",
     "timestamp": 1598884007660,
     "user": {
      "displayName": "Bikramaditya Chakrabarty",
      "photoUrl": "https://lh3.googleusercontent.com/a-/AOh14Gj_LA23e3P-ff6dZ76-h1jm6oKAEjpuSLvA8ZluuQ=s64",
      "userId": "10365549198075235434"
     },
     "user_tz": -330
    },
    "id": "wo_7rKPFxHC4",
    "outputId": "6d5d262d-c9ea-4e6c-c43c-817ac523e668"
   },
   "outputs": [
    {
     "name": "stdout",
     "output_type": "stream",
     "text": [
      "PPV= 0.9596928982725528\n",
      "NPV= 1.0\n",
      "BA= 0.979\n",
      "F1(P)= 0.9794319294809011\n",
      "F1(N)= 0.9785495403472931\n"
     ]
    }
   ],
   "source": [
    "print('PPV=',TP/(TP+FP))\n",
    "print('NPV=',TN/(TN+FN))\n",
    "TNR=TN/(FP+TN)\n",
    "TPR=TP/(TP+FN)\n",
    "print('BA=',(TNR+TPR)/2)\n",
    "print('F1(P)=',(2*TP)/((2*TP)+FP+FN))\n",
    "print('F1(N)=',(2*TN)/((2*TN)+FN+FP))"
   ]
  },
  {
   "cell_type": "code",
   "execution_count": null,
   "metadata": {},
   "outputs": [],
   "source": []
  }
 ],
 "metadata": {
  "colab": {
   "collapsed_sections": [],
   "name": "Copy of Supervised.ipynb",
   "provenance": [
    {
     "file_id": "149aSci_JZNYpLrJ2PcxVO1W4mYm-L2Hy",
     "timestamp": 1598884046206
    }
   ]
  },
  "kernelspec": {
   "display_name": "Python 3",
   "language": "python",
   "name": "python3"
  },
  "language_info": {
   "codemirror_mode": {
    "name": "ipython",
    "version": 3
   },
   "file_extension": ".py",
   "mimetype": "text/x-python",
   "name": "python",
   "nbconvert_exporter": "python",
   "pygments_lexer": "ipython3",
   "version": "3.7.7"
  }
 },
 "nbformat": 4,
 "nbformat_minor": 1
}
